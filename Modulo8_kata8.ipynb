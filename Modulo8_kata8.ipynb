{
 "cells": [
  {
   "cell_type": "code",
   "execution_count": 15,
   "metadata": {},
   "outputs": [
    {
     "name": "stdout",
     "output_type": "stream",
     "text": [
      "Marte has 2 moons\n",
      "Marte  has a polar circumference of 6752 (km)\n"
     ]
    }
   ],
   "source": [
    "\n",
    "planet = {\n",
    "    'Nombre': 'Marte',\n",
    "    'lunas': 2\n",
    "}\n",
    "planet.update({\n",
    "    'polar': 6752,\n",
    "    'equatorial': 6792\n",
    "})\n",
    "print(f'{planet[\"Nombre\"]} has {planet[\"lunas\"]} moons')\n",
    "print(f'{planet[\"Nombre\"]}  has a polar circumference of {planet[\"polar\"]} (km)')\n"
   ]
  },
  {
   "cell_type": "code",
   "execution_count": 19,
   "metadata": {},
   "outputs": [
    {
     "name": "stdout",
     "output_type": "stream",
     "text": [
      "17.833333333333332\n"
     ]
    }
   ],
   "source": [
    "planet_moons = {\n",
    "    'mercury': 0,\n",
    "    'venus': 0,\n",
    "    'earth': 1,\n",
    "    'mars': 2,\n",
    "    'jupiter': 79,\n",
    "    'saturn': 82,\n",
    "    'uranus': 27,\n",
    "    'neptune': 14,\n",
    "    'pluto': 5,\n",
    "    'haumea': 2,\n",
    "    'makemake': 1,\n",
    "    'eris': 1\n",
    "}\n",
    "moons = planet_moons.values()\n",
    "planets = len(planet_moons.keys())\n",
    "total_moons = 0\n",
    "for moon in moons:\n",
    "    total_moons = total_moons + moon\n",
    "average = total_moons / planets\n",
    "print(average)\n"
   ]
  }
 ],
 "metadata": {
  "interpreter": {
   "hash": "ad1fa2666d5c557e8c509a6ea31c95a4a6d6980966743dca54a567ddfbc2f541"
  },
  "kernelspec": {
   "display_name": "Python 3.10.2 64-bit",
   "language": "python",
   "name": "python3"
  },
  "language_info": {
   "codemirror_mode": {
    "name": "ipython",
    "version": 3
   },
   "file_extension": ".py",
   "mimetype": "text/x-python",
   "name": "python",
   "nbconvert_exporter": "python",
   "pygments_lexer": "ipython3",
   "version": "3.10.2"
  },
  "orig_nbformat": 4
 },
 "nbformat": 4,
 "nbformat_minor": 2
}
