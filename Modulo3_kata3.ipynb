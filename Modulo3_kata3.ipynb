{
 "cells": [
  {
   "cell_type": "code",
   "execution_count": 18,
   "metadata": {},
   "outputs": [
    {
     "name": "stdout",
     "output_type": "stream",
     "text": [
      "¡Peligro! Un asteroide se acerca a 34 km/s.\n"
     ]
    }
   ],
   "source": [
    "a=int(input())\n",
    "b=25\n",
    "# La alarma se activara si un asteroide se acerca a 25 km/s o mas, evaluando si a es mayor o igual a b\n",
    "if (a>=b):\n",
    "    print(\"¡Peligro! Un asteroide se acerca a \" + str(a)+\" km/s.\")"
   ]
  },
  {
   "cell_type": "code",
   "execution_count": 17,
   "metadata": {},
   "outputs": [
    {
     "name": "stdout",
     "output_type": "stream",
     "text": [
      "Observa el cielo se dirige un asteroide a 34km/\n"
     ]
    }
   ],
   "source": [
    "a=int(input())\n",
    "b=20\n",
    "# Ejecutara a<b, si es verdadero, mostrara el siguiente mensaje \"Un asteroide ingreso a la atmosfera a \", si no es el caso, avanzara.\n",
    "if a<b:\n",
    "    print(\"Un asteroide ingreso a la atmosfera a \" + str(a)+\"km/s\")\n",
    "# Evaluara a=b, si es verdadero mostrara un mesaje si no evalarua el ultimo caso que se tiene, este seria, a>b\n",
    "elif a==b:\n",
    "    print(\"Un asteroide ingreso a la atmosfera a \" + str(a)+\"km/s es probable que veas observes luces en el cielo\")\n",
    "else:\n",
    "    print(\"Observa el cielo se dirige un asteroide a \" + str(a)+\"km/s\")"
   ]
  },
  {
   "cell_type": "code",
   "execution_count": 19,
   "metadata": {},
   "outputs": [
    {
     "name": "stdout",
     "output_type": "stream",
     "text": [
      "Look up! ¡Hay una luz mágica en el cielo!\n"
     ]
    }
   ],
   "source": [
    "velocidad_asteroide = 25\n",
    "tamano_asteroide = 40\n",
    "if velocidad_asteroide > 25 and tamano_asteroide > 25:\n",
    "    print('¡Alerta, Un asteroide muy peligroso viene hacia la Tierra!')\n",
    "elif velocidad_asteroide >= 20:\n",
    "    print('Look up! ¡Hay una luz mágica en el cielo!')\n",
    "elif tamano_asteroide < 25:\n",
    "    print('Nada que ver aquí :)')\n",
    "else:\n",
    "    print('Nada que ver aquí :)')"
   ]
  }
 ],
 "metadata": {
  "interpreter": {
   "hash": "ad1fa2666d5c557e8c509a6ea31c95a4a6d6980966743dca54a567ddfbc2f541"
  },
  "kernelspec": {
   "display_name": "Python 3.10.2 64-bit",
   "language": "python",
   "name": "python3"
  },
  "language_info": {
   "codemirror_mode": {
    "name": "ipython",
    "version": 3
   },
   "file_extension": ".py",
   "mimetype": "text/x-python",
   "name": "python",
   "nbconvert_exporter": "python",
   "pygments_lexer": "ipython3",
   "version": "3.10.2"
  },
  "orig_nbformat": 4
 },
 "nbformat": 4,
 "nbformat_minor": 2
}
