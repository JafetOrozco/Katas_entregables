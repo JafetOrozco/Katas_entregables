{
 "cells": [
  {
   "cell_type": "code",
   "execution_count": null,
   "metadata": {},
   "outputs": [],
   "source": [
    "planetas = ['Mercury', 'Venus', 'Earth', 'Mars', 'Jupiter', 'Saturn', 'Uranus', 'Neptune']\n",
    "planetas.append('Pluton')\n",
    "numeros_de_planetas=len(planetas)\n",
    "print('Exiten', numeros_de_planetas, 'en el sistema solar')\n",
    "print('se agrego a', planetas[8])"
   ]
  },
  {
   "cell_type": "code",
   "execution_count": 9,
   "metadata": {},
   "outputs": [
    {
     "name": "stdout",
     "output_type": "stream",
     "text": [
      "Aquí están los planetas más cercanos que  Venus\n",
      "['Mercury']\n",
      "Aquí están los planetas más lejos que Venus\n",
      "['Earth', 'Mars', 'Jupiter', 'Saturn', 'Neptune']\n"
     ]
    }
   ],
   "source": [
    "planetas = ['Mercury', 'Venus', 'Earth', 'Mars', 'Jupiter', 'Saturn', 'Neptune']\n",
    "buscador=input('Introducir el nombre con la inicial mayuscula')\n",
    "buscador_index=planetas.index(buscador)\n",
    "print('Aquí están los planetas más cercanos que ', buscador)\n",
    "print(planetas[0:buscador_index])\n",
    "print('Aquí están los planetas más lejos que ' + buscador)\n",
    "print(planetas[buscador_index + 1:])"
   ]
  }
 ],
 "metadata": {
  "interpreter": {
   "hash": "ad1fa2666d5c557e8c509a6ea31c95a4a6d6980966743dca54a567ddfbc2f541"
  },
  "kernelspec": {
   "display_name": "Python 3.10.2 64-bit",
   "language": "python",
   "name": "python3"
  },
  "language_info": {
   "codemirror_mode": {
    "name": "ipython",
    "version": 3
   },
   "file_extension": ".py",
   "mimetype": "text/x-python",
   "name": "python",
   "nbconvert_exporter": "python",
   "pygments_lexer": "ipython3",
   "version": "3.10.2"
  },
  "orig_nbformat": 4
 },
 "nbformat": 4,
 "nbformat_minor": 2
}
