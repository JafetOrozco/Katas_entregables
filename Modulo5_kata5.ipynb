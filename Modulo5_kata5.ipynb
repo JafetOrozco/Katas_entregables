{
 "cells": [
  {
   "cell_type": "code",
   "execution_count": 9,
   "metadata": {},
   "outputs": [
    {
     "name": "stdout",
     "output_type": "stream",
     "text": [
      "628949429\n",
      "390577595\n"
     ]
    }
   ],
   "source": [
    "  \n",
    "Tierra=int('149597870')\n",
    "Júpiter=int('778547299')\n",
    "medida=\"km\"\n",
    "distancia=Tierra-Júpiter\n",
    "resultado=int(distancia*.621)\n",
    "print (abs(distancia ))\n",
    "print(abs(resultado ))\n"
   ]
  },
  {
   "cell_type": "code",
   "execution_count": 13,
   "metadata": {},
   "outputs": [
    {
     "name": "stdout",
     "output_type": "stream",
     "text": [
      "0\n",
      "6209999987.58\n"
     ]
    }
   ],
   "source": [
    "distancia1=input(\"¿Cual es la distancia1 en km? \")\n",
    "distancia2=input(\"¿Cual es la distancia2 en km? \")\n",
    "distancia1=int(distancia1)\n",
    "distancia2=int(distancia2)\n",
    "distancia_km= distancia2-distancia1\n",
    "print(distancia_total)\n",
    "distancia_mi=distancia_km*.621\n",
    "print(distancia_mi)\n",
    "\n",
    "\n"
   ]
  }
 ],
 "metadata": {
  "interpreter": {
   "hash": "ad1fa2666d5c557e8c509a6ea31c95a4a6d6980966743dca54a567ddfbc2f541"
  },
  "kernelspec": {
   "display_name": "Python 3.10.2 64-bit",
   "language": "python",
   "name": "python3"
  },
  "language_info": {
   "codemirror_mode": {
    "name": "ipython",
    "version": 3
   },
   "file_extension": ".py",
   "mimetype": "text/x-python",
   "name": "python",
   "nbconvert_exporter": "python",
   "pygments_lexer": "ipython3",
   "version": "3.10.2"
  },
  "orig_nbformat": 4
 },
 "nbformat": 4,
 "nbformat_minor": 2
}
