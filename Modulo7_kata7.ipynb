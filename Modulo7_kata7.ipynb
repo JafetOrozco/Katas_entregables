{
 "cells": [
  {
   "cell_type": "code",
   "execution_count": null,
   "metadata": {},
   "outputs": [],
   "source": [
    "planets_name=''\n",
    "inputs=[]\n",
    "while planets_name.lower() != '2':\n",
    "    if planets_name:\n",
    "        inputs.append(planets_name)\n",
    "    planets_name = input('Agrega los nombres, presiona 2 para salir ')"
   ]
  },
  {
   "cell_type": "code",
   "execution_count": 24,
   "metadata": {},
   "outputs": [
    {
     "name": "stdout",
     "output_type": "stream",
     "text": [
      "marte\n",
      "juchitan\n",
      "zapote\n"
     ]
    }
   ],
   "source": [
    "from time import sleep\n",
    "planets_name=''\n",
    "inputs=[]\n",
    "while planets_name.lower() != '2':\n",
    "    if planets_name:\n",
    "        inputs.append(planets_name)\n",
    "    planets_name = input('Agrega los nombres, presiona 2 para salir ')\n",
    "for planets_name2 in inputs:\n",
    "    print(planets_name2) \n",
    "    sleep (1)\n",
    "\n",
    "\n"
   ]
  }
 ],
 "metadata": {
  "interpreter": {
   "hash": "ad1fa2666d5c557e8c509a6ea31c95a4a6d6980966743dca54a567ddfbc2f541"
  },
  "kernelspec": {
   "display_name": "Python 3.10.2 64-bit",
   "language": "python",
   "name": "python3"
  },
  "language_info": {
   "codemirror_mode": {
    "name": "ipython",
    "version": 3
   },
   "file_extension": ".py",
   "mimetype": "text/x-python",
   "name": "python",
   "nbconvert_exporter": "python",
   "pygments_lexer": "ipython3",
   "version": "3.10.2"
  },
  "orig_nbformat": 4
 },
 "nbformat": 4,
 "nbformat_minor": 2
}
